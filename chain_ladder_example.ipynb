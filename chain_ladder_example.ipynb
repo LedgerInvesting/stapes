{
 "cells": [
  {
   "cell_type": "code",
   "execution_count": 1,
   "id": "94e67e89",
   "metadata": {},
   "outputs": [
    {
     "ename": "ModuleNotFoundError",
     "evalue": "No module named 'stapes'",
     "output_type": "error",
     "traceback": [
      "\u001b[0;31m---------------------------------------------------------------------------\u001b[0m",
      "\u001b[0;31mModuleNotFoundError\u001b[0m                       Traceback (most recent call last)",
      "\u001b[0;32m<ipython-input-1-b316be3e5652>\u001b[0m in \u001b[0;36m<module>\u001b[0;34m\u001b[0m\n\u001b[1;32m      2\u001b[0m \u001b[0;32mimport\u001b[0m \u001b[0mnumpy\u001b[0m \u001b[0;32mas\u001b[0m \u001b[0mnp\u001b[0m\u001b[0;34m\u001b[0m\u001b[0;34m\u001b[0m\u001b[0m\n\u001b[1;32m      3\u001b[0m \u001b[0;34m\u001b[0m\u001b[0m\n\u001b[0;32m----> 4\u001b[0;31m \u001b[0;32mimport\u001b[0m \u001b[0mstapes\u001b[0m\u001b[0;34m\u001b[0m\u001b[0;34m\u001b[0m\u001b[0m\n\u001b[0m",
      "\u001b[0;31mModuleNotFoundError\u001b[0m: No module named 'stapes'"
     ]
    }
   ],
   "source": [
    "import pandas as pd\n",
    "import numpy as np\n",
    "\n",
    "import stapes"
   ]
  },
  {
   "cell_type": "code",
   "execution_count": 2,
   "id": "c8869770",
   "metadata": {},
   "outputs": [],
   "source": [
    "example_tri = pd.read_csv(\"examples/example_triangles.csv\")\n",
    "example_tri[\"DevLag\"] = example_tri[\"DevLagId\"]\n",
    "example_train_tri = example_tri[example_tri[\"CalendarId\"] <= 10]"
   ]
  },
  {
   "cell_type": "code",
   "execution_count": 3,
   "id": "5e9211c9",
   "metadata": {},
   "outputs": [
    {
     "data": {
      "text/html": [
       "<div>\n",
       "<style scoped>\n",
       "    .dataframe tbody tr th:only-of-type {\n",
       "        vertical-align: middle;\n",
       "    }\n",
       "\n",
       "    .dataframe tbody tr th {\n",
       "        vertical-align: top;\n",
       "    }\n",
       "\n",
       "    .dataframe thead th {\n",
       "        text-align: right;\n",
       "    }\n",
       "</style>\n",
       "<table border=\"1\" class=\"dataframe\">\n",
       "  <thead>\n",
       "    <tr style=\"text-align: right;\">\n",
       "      <th></th>\n",
       "      <th>TriangleId</th>\n",
       "      <th>DevLagId</th>\n",
       "      <th>ReportedLoss</th>\n",
       "      <th>PaidLoss</th>\n",
       "      <th>EarnedPremium</th>\n",
       "      <th>ExpPeriodId</th>\n",
       "      <th>CalendarId</th>\n",
       "      <th>DevLag</th>\n",
       "    </tr>\n",
       "  </thead>\n",
       "  <tbody>\n",
       "    <tr>\n",
       "      <th>0</th>\n",
       "      <td>1</td>\n",
       "      <td>1</td>\n",
       "      <td>3.087</td>\n",
       "      <td>0.952</td>\n",
       "      <td>5.812</td>\n",
       "      <td>1</td>\n",
       "      <td>1</td>\n",
       "      <td>1</td>\n",
       "    </tr>\n",
       "    <tr>\n",
       "      <th>1</th>\n",
       "      <td>1</td>\n",
       "      <td>2</td>\n",
       "      <td>3.830</td>\n",
       "      <td>1.529</td>\n",
       "      <td>5.812</td>\n",
       "      <td>1</td>\n",
       "      <td>2</td>\n",
       "      <td>2</td>\n",
       "    </tr>\n",
       "    <tr>\n",
       "      <th>2</th>\n",
       "      <td>1</td>\n",
       "      <td>3</td>\n",
       "      <td>3.729</td>\n",
       "      <td>2.813</td>\n",
       "      <td>5.812</td>\n",
       "      <td>1</td>\n",
       "      <td>3</td>\n",
       "      <td>3</td>\n",
       "    </tr>\n",
       "    <tr>\n",
       "      <th>3</th>\n",
       "      <td>1</td>\n",
       "      <td>4</td>\n",
       "      <td>3.856</td>\n",
       "      <td>3.647</td>\n",
       "      <td>5.812</td>\n",
       "      <td>1</td>\n",
       "      <td>4</td>\n",
       "      <td>4</td>\n",
       "    </tr>\n",
       "    <tr>\n",
       "      <th>4</th>\n",
       "      <td>1</td>\n",
       "      <td>5</td>\n",
       "      <td>3.893</td>\n",
       "      <td>3.724</td>\n",
       "      <td>5.812</td>\n",
       "      <td>1</td>\n",
       "      <td>5</td>\n",
       "      <td>5</td>\n",
       "    </tr>\n",
       "    <tr>\n",
       "      <th>...</th>\n",
       "      <td>...</td>\n",
       "      <td>...</td>\n",
       "      <td>...</td>\n",
       "      <td>...</td>\n",
       "      <td>...</td>\n",
       "      <td>...</td>\n",
       "      <td>...</td>\n",
       "      <td>...</td>\n",
       "    </tr>\n",
       "    <tr>\n",
       "      <th>471</th>\n",
       "      <td>5</td>\n",
       "      <td>2</td>\n",
       "      <td>2.248</td>\n",
       "      <td>1.573</td>\n",
       "      <td>4.058</td>\n",
       "      <td>8</td>\n",
       "      <td>9</td>\n",
       "      <td>2</td>\n",
       "    </tr>\n",
       "    <tr>\n",
       "      <th>472</th>\n",
       "      <td>5</td>\n",
       "      <td>3</td>\n",
       "      <td>2.031</td>\n",
       "      <td>1.676</td>\n",
       "      <td>4.058</td>\n",
       "      <td>8</td>\n",
       "      <td>10</td>\n",
       "      <td>3</td>\n",
       "    </tr>\n",
       "    <tr>\n",
       "      <th>480</th>\n",
       "      <td>5</td>\n",
       "      <td>1</td>\n",
       "      <td>3.090</td>\n",
       "      <td>0.917</td>\n",
       "      <td>4.246</td>\n",
       "      <td>9</td>\n",
       "      <td>9</td>\n",
       "      <td>1</td>\n",
       "    </tr>\n",
       "    <tr>\n",
       "      <th>481</th>\n",
       "      <td>5</td>\n",
       "      <td>2</td>\n",
       "      <td>2.796</td>\n",
       "      <td>1.671</td>\n",
       "      <td>4.246</td>\n",
       "      <td>9</td>\n",
       "      <td>10</td>\n",
       "      <td>2</td>\n",
       "    </tr>\n",
       "    <tr>\n",
       "      <th>490</th>\n",
       "      <td>5</td>\n",
       "      <td>1</td>\n",
       "      <td>3.184</td>\n",
       "      <td>0.882</td>\n",
       "      <td>4.448</td>\n",
       "      <td>10</td>\n",
       "      <td>10</td>\n",
       "      <td>1</td>\n",
       "    </tr>\n",
       "  </tbody>\n",
       "</table>\n",
       "<p>275 rows × 8 columns</p>\n",
       "</div>"
      ],
      "text/plain": [
       "     TriangleId  DevLagId  ReportedLoss  PaidLoss  EarnedPremium  ExpPeriodId  \\\n",
       "0             1         1         3.087     0.952          5.812            1   \n",
       "1             1         2         3.830     1.529          5.812            1   \n",
       "2             1         3         3.729     2.813          5.812            1   \n",
       "3             1         4         3.856     3.647          5.812            1   \n",
       "4             1         5         3.893     3.724          5.812            1   \n",
       "..          ...       ...           ...       ...            ...          ...   \n",
       "471           5         2         2.248     1.573          4.058            8   \n",
       "472           5         3         2.031     1.676          4.058            8   \n",
       "480           5         1         3.090     0.917          4.246            9   \n",
       "481           5         2         2.796     1.671          4.246            9   \n",
       "490           5         1         3.184     0.882          4.448           10   \n",
       "\n",
       "     CalendarId  DevLag  \n",
       "0             1       1  \n",
       "1             2       2  \n",
       "2             3       3  \n",
       "3             4       4  \n",
       "4             5       5  \n",
       "..          ...     ...  \n",
       "471           9       2  \n",
       "472          10       3  \n",
       "480           9       1  \n",
       "481          10       2  \n",
       "490          10       1  \n",
       "\n",
       "[275 rows x 8 columns]"
      ]
     },
     "execution_count": 3,
     "metadata": {},
     "output_type": "execute_result"
    }
   ],
   "source": [
    "example_train_tri"
   ]
  },
  {
   "cell_type": "code",
   "execution_count": 4,
   "id": "8b52c9a8",
   "metadata": {},
   "outputs": [],
   "source": [
    "train_data = {\n",
    "    (name, int(row[\"TriangleId\"]), int(row[\"ExpPeriodId\"]), int(row[\"DevLagId\"])): row[name]\n",
    "    for name in [\"ReportedLoss\", \"PaidLoss\", \"EarnedPremium\", \"DevLag\"]\n",
    "    for _, row in example_train_tri.iterrows()\n",
    "    if (not np.isnan(row[name])) and int(row[\"TriangleId\"]) == 3\n",
    "}"
   ]
  },
  {
   "cell_type": "code",
   "execution_count": 5,
   "id": "c9b431bd",
   "metadata": {},
   "outputs": [],
   "source": [
    "model = stapes.build_model(\"\"\"\n",
    "pos :ata = vector(group=DevLagId);\n",
    "\n",
    "ReportedLoss mean = ReportedLoss.prev_dev * :ata;\n",
    "ReportedLoss variance = exp(:sigma_intercept + log(DevLag) * :sigma_slope) * ReportedLoss.prev_dev;\n",
    "\"\"\")"
   ]
  },
  {
   "cell_type": "code",
   "execution_count": 6,
   "id": "c1bb1071",
   "metadata": {},
   "outputs": [],
   "source": [
    "config = {\n",
    "    \"ata__loc\": 0.0,\n",
    "    \"ata__scale\": 3.0,\n",
    "    \"sigma_slope__loc\": 0.0,\n",
    "    \"sigma_slope__scale\": 1.0,\n",
    "    \"sigma_intercept__loc\": 0.0,\n",
    "    \"sigma_intercept__scale\": 1.0,\n",
    "    \"ReportedLoss__family\": 1,\n",
    "    \"ReportedLoss__missing_loc\": 0.0,\n",
    "    \"ReportedLoss__missing_scale\": 2.0,\n",
    "    \"DevLag__missing_loc\": 0.0,\n",
    "    \"DevLag__missing_scale\": 2.0,\n",
    "    \"EarnedPremium__missing_loc\": 0.0,\n",
    "    \"EarnedPremium__missing_scale\": 2.0,\n",
    "}"
   ]
  },
  {
   "cell_type": "code",
   "execution_count": 7,
   "id": "5072f30e",
   "metadata": {},
   "outputs": [
    {
     "name": "stderr",
     "output_type": "stream",
     "text": [
      "INFO:cmdstanpy:compiling stan file /private/var/folders/46/1r37mwc972gdq982cj99rp5r0000gn/T/tmpdbrd0qtz.stan to exe file /private/var/folders/46/1r37mwc972gdq982cj99rp5r0000gn/T/tmpdbrd0qtz\n",
      "INFO:cmdstanpy:compiled model executable: /private/var/folders/46/1r37mwc972gdq982cj99rp5r0000gn/T/tmpdbrd0qtz\n",
      "INFO:cmdstanpy:CmdStan start procesing\n"
     ]
    },
    {
     "data": {
      "application/vnd.jupyter.widget-view+json": {
       "model_id": "4d1e6f3ef6034ea8adc090e0cd7619db",
       "version_major": 2,
       "version_minor": 0
      },
      "text/plain": [
       "chain 1 |          | 00:00 Status"
      ]
     },
     "metadata": {},
     "output_type": "display_data"
    },
    {
     "data": {
      "application/vnd.jupyter.widget-view+json": {
       "model_id": "5eec38ca9e084744b85458f70568a8e2",
       "version_major": 2,
       "version_minor": 0
      },
      "text/plain": [
       "chain 2 |          | 00:00 Status"
      ]
     },
     "metadata": {},
     "output_type": "display_data"
    },
    {
     "data": {
      "application/vnd.jupyter.widget-view+json": {
       "model_id": "840c7540577f415aa0999a2276535eb0",
       "version_major": 2,
       "version_minor": 0
      },
      "text/plain": [
       "chain 3 |          | 00:00 Status"
      ]
     },
     "metadata": {},
     "output_type": "display_data"
    },
    {
     "data": {
      "application/vnd.jupyter.widget-view+json": {
       "model_id": "d883a3c7f9164bc8933cf9770c4f3c3f",
       "version_major": 2,
       "version_minor": 0
      },
      "text/plain": [
       "chain 4 |          | 00:00 Status"
      ]
     },
     "metadata": {},
     "output_type": "display_data"
    },
    {
     "name": "stdout",
     "output_type": "stream",
     "text": [
      "                                                                                                                                                                                                                                                                                                                                "
     ]
    },
    {
     "name": "stderr",
     "output_type": "stream",
     "text": [
      "INFO:cmdstanpy:CmdStan done processing.\n"
     ]
    },
    {
     "name": "stdout",
     "output_type": "stream",
     "text": [
      "\n"
     ]
    }
   ],
   "source": [
    "model.fit(train_data, config)"
   ]
  },
  {
   "cell_type": "code",
   "execution_count": 9,
   "id": "e867c0cf",
   "metadata": {},
   "outputs": [
    {
     "data": {
      "text/plain": [
       "array([1.05431296, 1.03279984, 1.00617411, 0.98705909, 0.97680734,\n",
       "       0.99255338, 0.99786018, 0.99978006, 0.99828496])"
      ]
     },
     "execution_count": 9,
     "metadata": {},
     "output_type": "execute_result"
    }
   ],
   "source": [
    "np.mean(model.parameters[\"ata\"].samples[\"..\"][:, 1:], axis=0)"
   ]
  },
  {
   "cell_type": "code",
   "execution_count": null,
   "id": "a9026b6e",
   "metadata": {},
   "outputs": [],
   "source": []
  }
 ],
 "metadata": {
  "kernelspec": {
   "display_name": "Python 3",
   "language": "python",
   "name": "python3"
  },
  "language_info": {
   "codemirror_mode": {
    "name": "ipython",
    "version": 3
   },
   "file_extension": ".py",
   "mimetype": "text/x-python",
   "name": "python",
   "nbconvert_exporter": "python",
   "pygments_lexer": "ipython3",
   "version": "3.9.0"
  }
 },
 "nbformat": 4,
 "nbformat_minor": 5
}
