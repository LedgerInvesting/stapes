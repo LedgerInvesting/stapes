{
 "cells": [
  {
   "cell_type": "code",
   "execution_count": null,
   "id": "965aa72c",
   "metadata": {},
   "outputs": [],
   "source": [
    "import pandas as pd\n",
    "import numpy as np\n",
    "\n",
    "import stapes"
   ]
  },
  {
   "cell_type": "code",
   "execution_count": null,
   "id": "0703ca3d",
   "metadata": {},
   "outputs": [],
   "source": [
    "example_tri = pd.read_csv(\"examples/example_triangles.csv\")\n",
    "example_tri[\"DevLag\"] = example_tri[\"DevLagId\"]\n",
    "example_train_tri = example_tri[example_tri[\"CalendarId\"] <= 10]\n",
    "example_test_tri = example_tri[example_tri[\"CalendarId\"] > 10]"
   ]
  },
  {
   "cell_type": "code",
   "execution_count": null,
   "id": "d23acaeb",
   "metadata": {},
   "outputs": [],
   "source": [
    "example_train_tri"
   ]
  },
  {
   "cell_type": "code",
   "execution_count": null,
   "id": "c528cba6",
   "metadata": {},
   "outputs": [],
   "source": [
    "train_data = {\n",
    "    (name, int(row[\"TriangleId\"]), int(row[\"ExpPeriodId\"]), int(row[\"DevLagId\"])): row[name]\n",
    "    for name in [\"ReportedLoss\", \"PaidLoss\", \"EarnedPremium\", \"DevLag\"]\n",
    "    for _, row in example_train_tri.iterrows()\n",
    "    if (not np.isnan(row[name])) and int(row[\"TriangleId\"]) == 3\n",
    "}"
   ]
  },
  {
   "cell_type": "code",
   "execution_count": null,
   "id": "f22a8c26",
   "metadata": {},
   "outputs": [],
   "source": [
    "test_data = {\n",
    "    (name, int(row[\"TriangleId\"]), int(row[\"ExpPeriodId\"]), int(row[\"DevLagId\"])): row[name]\n",
    "    for name in [\"EarnedPremium\", \"DevLag\"]\n",
    "    for _, row in example_test_tri.iterrows()\n",
    "    if (not np.isnan(row[name])) and int(row[\"TriangleId\"]) == 3\n",
    "}\n",
    "test_coords = [\n",
    "    (\"ReportedLoss\", tri_id, exp_id, dev_id)\n",
    "    for name, tri_id, exp_id, dev_id in test_data\n",
    "    if name == \"EarnedPremium\"\n",
    "]"
   ]
  },
  {
   "cell_type": "code",
   "execution_count": null,
   "id": "3bb4c459",
   "metadata": {},
   "outputs": [],
   "source": [
    "model = stapes.build_model(\"\"\"\n",
    "pos :ata = vector(group=DevLagId);\n",
    "\n",
    "ReportedLoss mean = ReportedLoss.prev_dev * :ata;\n",
    "ReportedLoss variance = exp(:sigma_intercept + log(DevLag) * :sigma_slope) * ReportedLoss.prev_dev;\n",
    "\"\"\")"
   ]
  },
  {
   "cell_type": "code",
   "execution_count": null,
   "id": "bd8a7d6a",
   "metadata": {},
   "outputs": [],
   "source": [
    "config = {\n",
    "    \"ReportedLoss__family\": \"lognormal\",\n",
    "    \"ata__loc\": 0.0,\n",
    "    \"ata__scale\": 3.0,\n",
    "    \"ReportedLoss__missing_loc\": 0.0,\n",
    "    \"ReportedLoss__missing_scale\": 2.0,\n",
    "}"
   ]
  },
  {
   "cell_type": "code",
   "execution_count": null,
   "id": "06d518b8",
   "metadata": {},
   "outputs": [],
   "source": [
    "model.fit(train_data, config)"
   ]
  },
  {
   "cell_type": "code",
   "execution_count": null,
   "id": "7abf1437",
   "metadata": {},
   "outputs": [],
   "source": [
    "np.mean(model.parameters[\"ata\"].samples[\"..\"][:, 1:], axis=0)"
   ]
  },
  {
   "cell_type": "code",
   "execution_count": null,
   "id": "6cbad566",
   "metadata": {},
   "outputs": [],
   "source": [
    "predictions = model.predict(test_coords, test_data)"
   ]
  },
  {
   "cell_type": "code",
   "execution_count": null,
   "id": "07e4db80",
   "metadata": {},
   "outputs": [],
   "source": []
  }
 ],
 "metadata": {
  "kernelspec": {
   "display_name": "Python 3",
   "language": "python",
   "name": "python3"
  },
  "language_info": {
   "codemirror_mode": {
    "name": "ipython",
    "version": 3
   },
   "file_extension": ".py",
   "mimetype": "text/x-python",
   "name": "python",
   "nbconvert_exporter": "python",
   "pygments_lexer": "ipython3",
   "version": "3.9.0"
  }
 },
 "nbformat": 4,
 "nbformat_minor": 5
}
