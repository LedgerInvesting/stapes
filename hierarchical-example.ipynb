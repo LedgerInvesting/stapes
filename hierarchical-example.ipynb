{
 "cells": [
  {
   "cell_type": "code",
   "execution_count": null,
   "id": "d3b1ffab",
   "metadata": {},
   "outputs": [],
   "source": [
    "import pandas as pd\n",
    "import numpy as np\n",
    "\n",
    "import stapes"
   ]
  },
  {
   "cell_type": "code",
   "execution_count": null,
   "id": "60e65263",
   "metadata": {},
   "outputs": [],
   "source": [
    "example_tri = pd.read_csv(\"examples/example_triangles.csv\")\n",
    "example_tri[\"DevLag\"] = example_tri[\"DevLagId\"]\n",
    "example_train_tri = example_tri[example_tri[\"CalendarId\"] <= 10]\n",
    "example_test_tri = example_tri[example_tri[\"CalendarId\"] > 10]"
   ]
  },
  {
   "cell_type": "code",
   "execution_count": null,
   "id": "b15fc057",
   "metadata": {},
   "outputs": [],
   "source": [
    "example_train_tri"
   ]
  },
  {
   "cell_type": "code",
   "execution_count": null,
   "id": "41c1ec45",
   "metadata": {},
   "outputs": [],
   "source": [
    "train_data = {\n",
    "    (name, int(row[\"TriangleId\"]), int(row[\"ExpPeriodId\"]), int(row[\"DevLagId\"])): row[name]\n",
    "    for name in [\"ReportedLoss\", \"PaidLoss\", \"EarnedPremium\", \"DevLag\"]\n",
    "    for _, row in example_train_tri.iterrows()\n",
    "    if not np.isnan(row[name])\n",
    "}"
   ]
  },
  {
   "cell_type": "code",
   "execution_count": null,
   "id": "50e9e74f",
   "metadata": {},
   "outputs": [],
   "source": [
    "test_data = {\n",
    "    (name, int(row[\"TriangleId\"]), int(row[\"ExpPeriodId\"]), int(row[\"DevLagId\"])): row[name]\n",
    "    for name in [\"EarnedPremium\", \"DevLag\"]\n",
    "    for _, row in example_test_tri.iterrows()\n",
    "}\n",
    "test_coords = [\n",
    "    (\"ReportedLoss\", tri_id, exp_id, dev_id)\n",
    "    for name, tri_id, exp_id, dev_id in test_data\n",
    "    if name == \"EarnedPremium\"\n",
    "]"
   ]
  },
  {
   "cell_type": "code",
   "execution_count": null,
   "id": "932de063",
   "metadata": {},
   "outputs": [],
   "source": [
    "model = stapes.build_model(\"\"\"\n",
    "pos :ata = vector(group=TriangleDevLagId);\n",
    "real :noise_slope = factor(group=TriangleId, is_centered=false);\n",
    "real :noise_intercept = factor(group=TriangleId, is_centered=false);\n",
    "pos :power = scalar();\n",
    "\n",
    "ReportedLoss mean = ReportedLoss.prev_dev * :ata;\n",
    "ReportedLoss variance = exp(\n",
    "    (:noise_slope * DevLag + :noise_intercept)\n",
    ") * ReportedLoss.prev_dev ^ :power;\n",
    "\"\"\")"
   ]
  },
  {
   "cell_type": "code",
   "execution_count": null,
   "id": "d732daa6",
   "metadata": {},
   "outputs": [],
   "source": [
    "stan_data = stapes.build_stan_data(train_data, model.offsets)"
   ]
  },
  {
   "cell_type": "code",
   "execution_count": null,
   "id": "1e486368",
   "metadata": {},
   "outputs": [],
   "source": [
    "config = {\n",
    "    \"ReportedLoss__family\": \"gamma\",\n",
    "    \"ata__loc\": 0.0,\n",
    "    \"ata__scale\": 3.0,\n",
    "    \"power__scale\": 0.5,\n",
    "    \"noise_intercept__mu_loc\": -1.0,\n",
    "    \"noise_intercept__mu_scale\": 1.0,\n",
    "    \"noise_intercept__sigma_scale\": 0.5,\n",
    "    \"ReportedLoss__missing_loc\": 0.0,\n",
    "    \"ReportedLoss__missing_scale\": 2.0,\n",
    "}"
   ]
  },
  {
   "cell_type": "code",
   "execution_count": null,
   "id": "0a06a1b6",
   "metadata": {},
   "outputs": [],
   "source": [
    "model.fit(train_data, config)"
   ]
  },
  {
   "cell_type": "code",
   "execution_count": null,
   "id": "f4980943",
   "metadata": {},
   "outputs": [],
   "source": []
  }
 ],
 "metadata": {
  "kernelspec": {
   "display_name": "Python 3",
   "language": "python",
   "name": "python3"
  },
  "language_info": {
   "codemirror_mode": {
    "name": "ipython",
    "version": 3
   },
   "file_extension": ".py",
   "mimetype": "text/x-python",
   "name": "python",
   "nbconvert_exporter": "python",
   "pygments_lexer": "ipython3",
   "version": "3.9.0"
  }
 },
 "nbformat": 4,
 "nbformat_minor": 5
}
